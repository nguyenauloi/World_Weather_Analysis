{
 "cells": [
  {
   "cell_type": "code",
   "execution_count": 1,
   "id": "8013292c",
   "metadata": {},
   "outputs": [],
   "source": [
    "#import the random module\n",
    "import random"
   ]
  },
  {
   "cell_type": "code",
   "execution_count": 2,
   "id": "1ea7ebf4",
   "metadata": {},
   "outputs": [
    {
     "data": {
      "text/plain": [
       "56"
      ]
     },
     "execution_count": 2,
     "metadata": {},
     "output_type": "execute_result"
    }
   ],
   "source": [
    "random.randint(-90,90)"
   ]
  },
  {
   "cell_type": "code",
   "execution_count": 3,
   "id": "15f3e032",
   "metadata": {},
   "outputs": [
    {
     "data": {
      "text/plain": [
       "0.28146888178450247"
      ]
     },
     "execution_count": 3,
     "metadata": {},
     "output_type": "execute_result"
    }
   ],
   "source": [
    "random.random()"
   ]
  },
  {
   "cell_type": "code",
   "execution_count": 4,
   "id": "502f13a6",
   "metadata": {},
   "outputs": [
    {
     "data": {
      "text/plain": [
       "-3.01295417978539"
      ]
     },
     "execution_count": 4,
     "metadata": {},
     "output_type": "execute_result"
    }
   ],
   "source": [
    "random_number = random.randint(-90, 89) + random.random()\n",
    "random_number"
   ]
  },
  {
   "cell_type": "code",
   "execution_count": 5,
   "id": "87fe6390",
   "metadata": {},
   "outputs": [],
   "source": [
    "x = 1\n",
    "latitudes = []\n",
    "while x < 11:\n",
    "    random_lat = random.randint(-90, 89) + random.random()\n",
    "    latitudes.append(random_lat)\n",
    "    x += 1"
   ]
  },
  {
   "cell_type": "code",
   "execution_count": 6,
   "id": "7c864617",
   "metadata": {},
   "outputs": [
    {
     "data": {
      "text/plain": [
       "[-1.775257542523785,\n",
       " 71.32360290853116,\n",
       " 0.957512075861312,\n",
       " -61.98584821896447,\n",
       " 39.30894595466838,\n",
       " 59.052017100932105,\n",
       " -21.086555601683152,\n",
       " -73.1097793589278,\n",
       " -62.08704515442882,\n",
       " 83.57825308432167]"
      ]
     },
     "execution_count": 6,
     "metadata": {},
     "output_type": "execute_result"
    }
   ],
   "source": [
    "latitudes"
   ]
  },
  {
   "cell_type": "code",
   "execution_count": 7,
   "id": "1eaa0ccf",
   "metadata": {},
   "outputs": [
    {
     "data": {
      "text/plain": [
       "84"
      ]
     },
     "execution_count": 7,
     "metadata": {},
     "output_type": "execute_result"
    }
   ],
   "source": [
    "random.randrange(-90, 90, step=1)"
   ]
  },
  {
   "cell_type": "code",
   "execution_count": 8,
   "id": "ce5dd186",
   "metadata": {},
   "outputs": [
    {
     "data": {
      "text/plain": [
       "-6"
      ]
     },
     "execution_count": 8,
     "metadata": {},
     "output_type": "execute_result"
    }
   ],
   "source": [
    "random.randrange(-90, 90, step=3)"
   ]
  },
  {
   "cell_type": "code",
   "execution_count": 9,
   "id": "e723d645",
   "metadata": {},
   "outputs": [
    {
     "data": {
      "text/plain": [
       "19.974352868346017"
      ]
     },
     "execution_count": 9,
     "metadata": {},
     "output_type": "execute_result"
    }
   ],
   "source": [
    "random.uniform(-90, 90)"
   ]
  },
  {
   "cell_type": "code",
   "execution_count": 10,
   "id": "541f411e",
   "metadata": {},
   "outputs": [],
   "source": [
    "# Import the NumPy module.\n",
    "import numpy as np"
   ]
  },
  {
   "cell_type": "code",
   "execution_count": 11,
   "id": "e4d5adff",
   "metadata": {},
   "outputs": [
    {
     "data": {
      "text/plain": [
       "49.694245316909786"
      ]
     },
     "execution_count": 11,
     "metadata": {},
     "output_type": "execute_result"
    }
   ],
   "source": [
    "np.random.uniform(-90.000, 90.000)"
   ]
  },
  {
   "cell_type": "code",
   "execution_count": 12,
   "id": "9fe7fa0a",
   "metadata": {},
   "outputs": [
    {
     "data": {
      "text/plain": [
       "array([-86.25673899,  32.45386887, -14.00969469, -22.53652213,\n",
       "       -39.08019867, -63.65465007,  65.4124435 , -66.05325222,\n",
       "       -44.73193298,  14.4026057 , -38.69540301,  44.41360859,\n",
       "        84.46394002,  26.78768633, -89.80937714, -11.09626431,\n",
       "        81.62688731, -74.91087144,  66.69218572,   6.38886154,\n",
       "       -19.24269041, -72.90788607, -74.79618169, -45.45242819,\n",
       "       -89.87468399, -28.2183366 , -73.66007359, -19.49614489,\n",
       "        38.58899875,  45.37017021, -85.66669768, -13.0390016 ,\n",
       "        64.87543256,  70.44757689, -27.24225307,  58.14017045,\n",
       "        89.66330216, -77.38639912,  26.21981749, -83.73738511,\n",
       "        88.52793386, -65.20625891, -13.77977206,  27.90844953,\n",
       "        -4.48538393,  15.47039241, -42.6158866 ,  16.91074366,\n",
       "       -78.28912127, -72.07059279,  -8.01719577, -19.19478869,\n",
       "       -78.07553613,  35.68466763, -77.20205084, -56.96976671,\n",
       "        47.26701191, -13.4742496 , -65.29977617,   6.18215096,\n",
       "        88.58646099, -48.50776348, -57.07881758,  72.23840857,\n",
       "        25.18351392,   5.36434789, -39.20252441,  53.69235157,\n",
       "        63.30535966,  70.61243513,   3.13978834, -63.76173606,\n",
       "       -19.37808895, -61.94323848, -20.17270894,  -6.36630299,\n",
       "        88.02919984,  53.77839429, -22.75892545,  59.23843523,\n",
       "        51.59640656, -18.15259032, -51.36132203,  62.38222157,\n",
       "         8.43045054, -72.75341874,  51.85472357, -57.6393368 ,\n",
       "       -75.53360145, -78.53448403,  72.4206047 ,  26.4645212 ,\n",
       "        18.16592903,  68.13318469,  52.6562697 , -42.02211011,\n",
       "       -20.10782272, -14.54006756,  35.10274289, -67.6524276 ,\n",
       "        58.17091601,  73.3821173 , -74.70004536, -66.98399161,\n",
       "        -9.28327117, -43.86314441,  49.34710906, -51.90050323,\n",
       "        -7.94528415, -80.28754641, -61.18888324, -37.60606258,\n",
       "       -76.33375808,  86.68727302,   7.35572077, -49.96639587,\n",
       "       -23.86006739, -22.78105185,  10.67524725,  37.4520447 ,\n",
       "       -16.408478  ,  12.82616906, -47.96616537,  -3.2229242 ,\n",
       "       -51.19345421,  79.31046827,  81.1578409 ,  29.75896218,\n",
       "        20.45927705, -58.30498675,  65.91677203,  64.7827316 ,\n",
       "        22.00856086, -23.6998831 ,  12.8585369 ,  66.3520225 ,\n",
       "       -45.21721693, -11.01039309,  -8.55483793,  46.83572104,\n",
       "       -77.14435454,  47.06508255, -42.57720159, -60.78684108,\n",
       "       -10.88793982, -60.97614494, -83.55008509, -14.7087352 ,\n",
       "       -16.72824691, -21.49110833,  46.97702433,  17.19409315,\n",
       "       -27.18801021,  76.18356026, -47.85940577,  16.51854055,\n",
       "       -13.33595054, -75.9319059 , -22.28271885,  10.15666005,\n",
       "        20.1551021 ,  72.88710333,  63.92588082,  16.42914773,\n",
       "       -28.26065739, -33.85323099, -81.88709428,  49.59924487,\n",
       "       -84.38836647,  57.48873331,  -2.9326188 ,  -0.206896  ,\n",
       "        63.06049911,  52.07892621, -79.07255322, -10.15183704,\n",
       "       -15.04125028,  56.59166587, -42.53691485, -84.89590265,\n",
       "        89.88356091, -31.61205558, -50.08703914,   8.06112659,\n",
       "        67.78869804,   5.23299779,  68.78554689,  72.47994839,\n",
       "        72.66947015,  48.49732755, -89.86735086, -83.24175456,\n",
       "        11.64709787, -67.60214887, -65.91880843,  65.55969777,\n",
       "        -3.85400001, -28.79759912,  31.50260889,  15.20330901,\n",
       "       -74.57020624,  80.28694162, -72.65448157,  23.35943811,\n",
       "       -64.50885961, -44.80620217, -40.5362396 ,  55.13002746,\n",
       "       -59.84249733,  68.45991915, -77.90004351,  64.91404055,\n",
       "        24.91452881,  -6.1155156 , -67.62269005,  49.59954495,\n",
       "       -84.56508871, -53.39859657, -20.33878359,  89.97609043,\n",
       "       -28.20575703,  19.09033247, -33.40867929,  56.78303765,\n",
       "       -72.0627621 , -12.73166668, -78.25010083, -88.89125886,\n",
       "        87.85212852, -75.98039987, -30.85382942, -32.23251729,\n",
       "        84.58154809, -39.89344418, -83.34070182, -29.14847367,\n",
       "        67.80200202,  -3.16701879, -17.28035897, -74.79993311,\n",
       "        31.61989686, -86.66559764,  81.65165867, -26.25966678,\n",
       "       -74.88706863,  40.05171933,  -1.05534336,  41.54614745,\n",
       "       -27.02951515,  27.18686985,  42.65142788, -59.33568005,\n",
       "        16.34290653,  20.45920877,  23.44849599, -45.84501945,\n",
       "        12.1073486 , -39.05651654,  70.06391712, -53.99024314,\n",
       "       -11.22328054, -88.58875706,  13.42971202, -22.95151888,\n",
       "        23.18848185, -74.95402954, -40.70068768,  86.86413857,\n",
       "       -45.07079876, -35.43672772, -43.52047003, -25.43680767,\n",
       "        -1.30970364,  34.64178472, -25.44291838,  10.6381851 ,\n",
       "        32.50590422, -57.65175102,  -3.87589124, -69.55210102,\n",
       "        -0.2754201 ,  -2.94149646,  78.70458486,   9.26834762,\n",
       "        64.51865607, -45.83301409,  60.77293596,  -8.17260176,\n",
       "       -85.60869793,  87.05298831, -20.70680197, -46.66160396,\n",
       "       -31.94091601, -63.57028925, -84.37289102,  13.9637005 ,\n",
       "       -68.89045788,  87.48606754,  24.2228343 , -87.63917398,\n",
       "       -88.27907082,   2.56767699, -46.1508856 , -66.17464553,\n",
       "        49.17377829,  86.77335441,   2.51876105,  33.39124415,\n",
       "        34.44132769,  62.98098571,  -6.01600554,  18.33081041,\n",
       "       -65.38148301,  68.56661366, -83.03864203, -41.65800288,\n",
       "       -15.60889053,  45.63272441, -76.8532623 ,  69.88681435,\n",
       "       -77.78005611, -10.89435531, -33.35274   , -76.01389167,\n",
       "        42.80533129,  13.78871787, -89.35480107,  28.39814274,\n",
       "        24.62271504,   6.41851633,  55.23942735,  38.63893348,\n",
       "        76.67632363,   8.92446595,  20.78953107, -89.00331067,\n",
       "       -11.58431973,  17.84701837,  56.41002606,  36.17259853,\n",
       "        75.22296024, -31.18365182, -66.51903865,  40.30343789,\n",
       "       -83.93466576,  25.94021893, -12.40841546,  69.57923342,\n",
       "        82.87784051,   1.50374149,  66.85300441, -86.96360564,\n",
       "        -0.38985469, -35.20394698,  25.94831676,  33.43328225,\n",
       "       -21.22700746, -43.57505911, -10.40312474, -52.13799589,\n",
       "        14.25877895, -10.78936057,  -2.2042988 , -19.9749439 ,\n",
       "       -70.4740563 ,  67.77941161,  33.63408944, -61.57583   ,\n",
       "       -29.57894681,   9.9967659 , -21.79929903,   4.184795  ,\n",
       "        58.28635916,   3.33925883, -15.74371356, -29.37641707,\n",
       "       -17.15758346, -38.56373425,  68.13828446,  45.58835326,\n",
       "       -34.34425551,  35.05846287, -40.08011459,  21.55598426,\n",
       "        40.68603005, -65.86890653, -67.52753907,  89.12192979,\n",
       "       -64.11999164,   0.45284607,  19.27510394, -81.06155918,\n",
       "       -47.18318577, -44.66065207,  -7.31033738,  60.65796164,\n",
       "        21.49113929, -77.81269819, -52.10734071, -88.25965905,\n",
       "       -10.32875443, -43.37456378, -17.20599656, -10.29327136,\n",
       "        17.35913632,  89.8257808 ,  15.73224486,   9.83368408,\n",
       "         6.11784217, -45.17552837, -62.57421776,  -6.06525881,\n",
       "       -75.33697212, -40.62081995,  35.112493  ,  13.56977479,\n",
       "       -77.17409087,  27.07147982,   8.76740754,   3.1304914 ,\n",
       "       -16.67338415, -21.73971304,  35.42454562,  23.21923303,\n",
       "         3.53090101,  47.05686173,  19.11746918, -51.34765541,\n",
       "        44.34314397, -28.33667987,  61.86079643, -39.61676369,\n",
       "        17.72037775,  36.7828466 , -77.67837037, -34.87749513,\n",
       "       -32.46608943,  28.29519949, -27.7962049 ,  43.86500268,\n",
       "       -33.1599672 , -30.97596707,  46.24274588, -40.91007744,\n",
       "        38.48180003, -65.85122574, -39.05193682, -82.4529215 ,\n",
       "       -63.44453887, -22.22687217,  22.71875189,  -2.41135919,\n",
       "        59.0998444 , -10.06919719, -81.60000061, -66.01267149,\n",
       "       -10.07590617,  84.26462157, -82.42371549, -89.4280333 ,\n",
       "        -9.6607145 ,  13.06671251,  44.14107644,  21.09211539,\n",
       "        45.07492014,  13.93566713, -58.7749432 , -78.00134595,\n",
       "       -31.4904006 ,  72.18440863,  53.99072353,  30.46936846,\n",
       "        -2.23977545,  71.47780182, -78.37534449, -43.84935409,\n",
       "       -86.62875187, -64.41452405,  56.98037377,  54.19130974,\n",
       "        -3.2353015 ,  78.26129754,  61.99792195, -81.32430149,\n",
       "        79.71364911, -67.82347865, -81.6458689 ,   3.54977627,\n",
       "       -87.54529856,  59.39523247,  28.11694227,  29.00636697,\n",
       "       -16.01624816,  68.84004722, -68.37269697, -63.69481511,\n",
       "        61.33187544,  41.35150015,   0.97265956, -71.85955664])"
      ]
     },
     "execution_count": 12,
     "metadata": {},
     "output_type": "execute_result"
    }
   ],
   "source": [
    "np.random.uniform(-90.000, 90.000, size=500)"
   ]
  },
  {
   "cell_type": "code",
   "execution_count": 13,
   "id": "e211fb35",
   "metadata": {},
   "outputs": [],
   "source": [
    "# Import timeit.\n",
    "import timeit"
   ]
  },
  {
   "cell_type": "code",
   "execution_count": 14,
   "id": "a90dbae3",
   "metadata": {},
   "outputs": [
    {
     "name": "stdout",
     "output_type": "stream",
     "text": [
      "52.9 µs ± 1.52 µs per loop (mean ± std. dev. of 7 runs, 10,000 loops each)\n"
     ]
    }
   ],
   "source": [
    "%timeit np.random.uniform(-90.000, 90.000, size=1500)"
   ]
  },
  {
   "cell_type": "code",
   "execution_count": 15,
   "id": "720c9fb8",
   "metadata": {},
   "outputs": [
    {
     "name": "stdout",
     "output_type": "stream",
     "text": [
      "5.52 ms ± 94.8 µs per loop (mean ± std. dev. of 7 runs, 100 loops each)\n"
     ]
    }
   ],
   "source": [
    "def latitudes(size):\n",
    "    latitudes = []\n",
    "    x = 0\n",
    "    while x < (size):\n",
    "        random_lat = random.randint(-90, 90) + random.random()\n",
    "        latitudes.append(random_lat)\n",
    "        x += 1\n",
    "    return latitudes\n",
    "# Call the function with 1500.\n",
    "%timeit latitudes(1500)"
   ]
  },
  {
   "cell_type": "code",
   "execution_count": 1,
   "id": "3d11bfe7",
   "metadata": {},
   "outputs": [],
   "source": [
    "# Import linear regression from the SciPy stats module.\n",
    "from scipy.stats import linregress"
   ]
  },
  {
   "cell_type": "code",
   "execution_count": 2,
   "id": "4549ba9a",
   "metadata": {},
   "outputs": [],
   "source": [
    "# Create an equal number of latitudes and temperatures.\n",
    "lats = [42.5, 43.9, 8.1, 36.8, 79.9, 69.1, 25.7, 15.3, 12.7, 64.5]\n",
    "temps = [80.5, 75.3, 90.9, 90.0, 40.4, 62.3, 85.4, 79.6, 72.5, 72.0]"
   ]
  },
  {
   "cell_type": "code",
   "execution_count": 3,
   "id": "863a9316",
   "metadata": {},
   "outputs": [
    {
     "name": "stdout",
     "output_type": "stream",
     "text": [
      "y = -0.45x + 92.94\n",
      "The p-value is: 0.011\n"
     ]
    }
   ],
   "source": [
    "# Perform linear regression.\n",
    "(slope, intercept, r_value, p_value, std_err) = linregress(lats, temps)\n",
    "# Get the equation of the line.\n",
    "line_eq = \"y = \" + str(round(slope,2)) + \"x + \" + str(round(intercept,2))\n",
    "print(line_eq)\n",
    "print(f\"The p-value is: {p_value:.3f}\")"
   ]
  },
  {
   "cell_type": "code",
   "execution_count": 4,
   "id": "ec8cab35",
   "metadata": {},
   "outputs": [],
   "source": [
    "# Calculate the regression line \"y values\" from the slope and intercept.\n",
    "regress_values = [(lat * slope + intercept) for lat in lats]"
   ]
  },
  {
   "cell_type": "code",
   "execution_count": 5,
   "id": "10fe638f",
   "metadata": {},
   "outputs": [
    {
     "data": {
      "image/png": "[encoded data removed]",
      "text/plain": [
       "<Figure size 432x288 with 1 Axes>"
      ]
     },
     "metadata": {
      "needs_background": "light"
     },
     "output_type": "display_data"
    }
   ],
   "source": [
    "# Import Matplotlib.\n",
    "import matplotlib.pyplot as plt\n",
    "# Create a scatter plot of the x and y values.\n",
    "plt.scatter(lats,temps)\n",
    "# Plot the regression line with the x-values and the y coordinates based on the intercept and slope.\n",
    "plt.plot(lats,regress_values,\"r\")\n",
    "# Annotate the text for the line equation and add its coordinates.\n",
    "plt.annotate(line_eq, (10,40), fontsize=15, color=\"red\")\n",
    "plt.xlabel('Latitude')\n",
    "plt.ylabel('Temp')\n",
    "plt.show()"
   ]
  },
  {
   "cell_type": "code",
   "execution_count": null,
   "id": "49b17c28",
   "metadata": {},
   "outputs": [],
   "source": []
  }
 ],
 "metadata": {
  "kernelspec": {
   "display_name": "Python 3 (ipykernel)",
   "language": "python",
   "name": "python3"
  },
  "language_info": {
   "codemirror_mode": {
    "name": "ipython",
    "version": 3
   },
   "file_extension": ".py",
   "mimetype": "text/x-python",
   "name": "python",
   "nbconvert_exporter": "python",
   "pygments_lexer": "ipython3",
   "version": "3.9.12"
  }
 },
 "nbformat": 4,
 "nbformat_minor": 5
}
