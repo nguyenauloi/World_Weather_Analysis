{
 "cells": [
  {
   "cell_type": "code",
   "execution_count": 1,
   "id": "a041d242",
   "metadata": {},
   "outputs": [],
   "source": [
    "# Import the dependencies.\n",
    "import pandas as pd\n",
    "import matplotlib.pyplot as plt\n",
    "import numpy as np"
   ]
  },
  {
   "cell_type": "code",
   "execution_count": 2,
   "id": "91f09514",
   "metadata": {},
   "outputs": [
    {
     "data": {
      "text/plain": [
       "<zip at 0x28dd11a9788>"
      ]
     },
     "execution_count": 2,
     "metadata": {},
     "output_type": "execute_result"
    }
   ],
   "source": [
    "# Create a set of random latitude and longitude combinations.\n",
    "lats = np.random.uniform(low=-90.000, high=90.000, size=1500)\n",
    "lngs = np.random.uniform(low=-180.000, high=180.000, size=1500)\n",
    "lat_lngs = zip(lats, lngs)\n",
    "lat_lngs"
   ]
  },
  {
   "cell_type": "code",
   "execution_count": 3,
   "id": "602833d8",
   "metadata": {},
   "outputs": [],
   "source": [
    "# Add the latitudes and longitudes to a list.\n",
    "coordinates = list(lat_lngs)"
   ]
  },
  {
   "cell_type": "code",
   "execution_count": 4,
   "id": "5a8e334a",
   "metadata": {},
   "outputs": [
    {
     "name": "stdout",
     "output_type": "stream",
     "text": [
      "-34.646149344230075 35.40406637800561\n",
      "41.887822140894315 46.80818151497232\n",
      "-57.24772607573953 93.48269406525122\n",
      "-89.40193168982717 -37.98025427356902\n",
      "27.386716387727432 -1.3113973372011287\n",
      "5.115289976616111 158.23323891067474\n",
      "62.537500449116294 -104.6022202531859\n",
      "-75.89991610850888 -140.45998345592494\n",
      "59.76769137966076 162.6329712004935\n",
      "63.24773477162515 34.05255278778736\n",
      "25.075449680748576 17.038205590191012\n",
      "72.92756824031918 7.133643947582556\n",
      "66.02377535606328 -166.2392076153568\n",
      "29.30346851533392 -173.57862425545088\n",
      "87.47332300727516 68.83617194242578\n",
      "-86.14086676552802 -11.736507452338458\n",
      "34.567202679435056 57.862627720924365\n",
      "-67.3874144343614 155.30302506256726\n",
      "-39.57638660543696 43.875289196004616\n",
      "59.85814399335507 -51.46117346836371\n",
      "35.642551140615794 -2.176513647862322\n",
      "86.4432944458307 -44.279703749826325\n",
      "-21.880197491169895 -177.79593723537718\n",
      "19.9681305026741 -68.34391256346987\n",
      "60.45205729725774 -65.1694507070169\n",
      "40.53079775624943 -149.02903315065012\n",
      "-7.374923058107356 68.03687120030506\n",
      "82.22246167482521 41.83803104249941\n",
      "86.59423623754998 163.86624561730787\n",
      "44.30587589471827 173.5232513215716\n",
      "-34.78330702893659 -175.59573860197315\n",
      "-39.31848620647558 149.88923559635674\n",
      "82.05180356955057 28.02737403749029\n",
      "-0.28994368818332816 -34.166595622115324\n",
      "7.144530732056467 160.7245121222544\n",
      "-11.262576752957912 -53.806254166088436\n",
      "-9.547183485029166 79.98144767939903\n",
      "56.39548178481786 111.95654775162996\n",
      "-86.08533857371076 -124.53334401622696\n",
      "54.34791518326455 177.35221009228354\n",
      "-9.346953800695701 104.10986495230242\n",
      "42.50091054926858 -67.1220467695524\n",
      "-12.346803766995208 -114.6390629506739\n",
      "-53.232948393649686 -19.689106665824823\n",
      "36.18594839220965 118.40076587018876\n",
      "-7.859696255614054 123.20044319546173\n",
      "-35.27453640602851 -119.80114389490026\n",
      "6.060268981875666 -141.33567213330767\n",
      "60.20666464195534 67.74386116892333\n",
      "-51.6708452920319 -148.1315363199687\n",
      "21.853719980900834 134.0456969659105\n",
      "-84.75744948402061 -31.18222424182099\n",
      "-75.93558828607969 13.054468398433784\n",
      "-68.7579511302574 129.03735902663067\n",
      "2.6815742128151783 -59.94570783796898\n",
      "64.23815164159532 71.89568933075901\n",
      "57.95961296048867 79.09205557121953\n",
      "-68.20482238895389 33.54623917133193\n",
      "37.156981306015595 -164.83981665028995\n",
      "58.43565397733886 -126.13016603793648\n",
      "-2.399858193047379 22.69277849421482\n",
      "-10.402299539176639 14.541312909326535\n",
      "1.183008922070286 -83.21528059646526\n",
      "26.66291051021659 -152.044138554077\n",
      "-45.75595634649966 91.99318351491098\n",
      "-25.97642926373429 -26.723319165231487\n",
      "82.91583947780933 33.61854794771921\n",
      "3.0421681291588243 -152.5591557901299\n",
      "-65.3819405503532 -55.082129214284095\n",
      "-73.53634031972598 -99.92343081098407\n",
      "80.53999185257175 44.58596317104471\n",
      "64.116075357348 -61.86944219319746\n",
      "56.46055834982104 117.57836758296497\n",
      "-15.019520300634355 -29.39484041747488\n",
      "-36.42126610474325 -123.84956362882862\n",
      "-71.8603575318613 -102.43314514966625\n",
      "-69.25017821755284 91.81131956331029\n",
      "-49.503922388200586 28.508760576243247\n",
      "63.377339344775066 38.59863706778219\n",
      "83.62958778803164 -95.98024373745818\n",
      "-52.39387767627713 -167.8950192708991\n",
      "32.74427446738059 129.3469183668937\n",
      "59.16770975312076 -89.98436842223825\n",
      "-28.613024517233143 138.0162011624397\n",
      "18.266580196894765 154.69647899831477\n",
      "53.262725944884124 -172.57954141291248\n",
      "-47.935711399940956 3.4805329770963453\n",
      "-82.56968632376086 60.30113026057376\n",
      "-51.1470229508061 -112.85084558842581\n",
      "-70.10724685738303 -81.1541992226493\n",
      "83.38387504259791 114.68385895313071\n",
      "59.625485724025935 24.910408056549073\n",
      "-53.136315946935134 48.839929151255234\n",
      "-25.871302413921086 -150.07295603989294\n",
      "-60.85138200981203 -17.701218724761475\n",
      "-41.260807487672125 -158.6136239238385\n",
      "29.23960494226543 -81.16772031295764\n",
      "-70.36065172434049 -1.1110867328330016\n",
      "76.87808252117713 -74.67778113136913\n",
      "49.03127436262295 -100.149001084699\n"
     ]
    }
   ],
   "source": [
    "# Use the print() function to display the latitude and longitude combinations.\n",
    "for coordinate in coordinates:\n",
    "    print(coordinate[0], coordinate[1])"
   ]
  },
  {
   "cell_type": "code",
   "execution_count": 5,
   "id": "79e4ac46",
   "metadata": {},
   "outputs": [],
   "source": [
    "from citipy import citipy"
   ]
  },
  {
   "cell_type": "code",
   "execution_count": 6,
   "id": "e7a130a8",
   "metadata": {},
   "outputs": [
    {
     "data": {
      "text/plain": [
       "79"
      ]
     },
     "execution_count": 6,
     "metadata": {},
     "output_type": "execute_result"
    }
   ],
   "source": [
    "# Create a list for holding the cities.\n",
    "cities = []\n",
    "# Identify the nearest city for each latitude and longitude combination.\n",
    "for coordinate in coordinates:\n",
    "    city = citipy.nearest_city(coordinate[0], coordinate[1]).city_name\n",
    "\n",
    "    # If the city is unique, then we will add it to the cities list.\n",
    "    if city not in cities:\n",
    "        cities.append(city)\n",
    "# Print the city count to confirm sufficient count.\n",
    "len(cities)"
   ]
  },
  {
   "cell_type": "code",
   "execution_count": 7,
   "id": "323e3f4b",
   "metadata": {},
   "outputs": [],
   "source": [
    "# Import the requests library.\n",
    "import requests\n",
    "\n",
    "# Import the API key.\n",
    "from config import weather_api_key"
   ]
  },
  {
   "cell_type": "code",
   "execution_count": 8,
   "id": "b1487e1f",
   "metadata": {},
   "outputs": [
    {
     "name": "stdout",
     "output_type": "stream",
     "text": [
      "https://api.openweathermap.org/data/2.5/weather?lat={lat}&lon={lon}&appid=b302b1c49258578c41414d021d1d5d3e\n"
     ]
    }
   ],
   "source": [
    "# Starting URL for Weather Map API Call.\n",
    "url = \"https://api.openweathermap.org/data/2.5/weather?lat={lat}&lon={lon}&appid=\" + weather_api_key\n",
    "print(url)"
   ]
  },
  {
   "cell_type": "code",
   "execution_count": 9,
   "id": "ce18fe81",
   "metadata": {},
   "outputs": [],
   "source": [
    "# Import the time library and the datetime module from the datetime library \n",
    "import time\n",
    "from datetime import datetime"
   ]
  },
  {
   "cell_type": "code",
   "execution_count": 10,
   "id": "c5dad89c",
   "metadata": {},
   "outputs": [
    {
     "name": "stdout",
     "output_type": "stream",
     "text": [
      "Beginning Data Retrieval     \n",
      "-----------------------------\n"
     ]
    }
   ],
   "source": [
    "# Create an empty list to hold the weather data.\n",
    "city_data = []\n",
    "# Print the beginning of the logging.\n",
    "print(\"Beginning Data Retrieval     \")\n",
    "print(\"-----------------------------\")\n",
    "\n",
    "# Create counters.\n",
    "record_count = 1\n",
    "set_count = 1"
   ]
  },
  {
   "cell_type": "code",
   "execution_count": 11,
   "id": "877cc495",
   "metadata": {},
   "outputs": [
    {
     "name": "stdout",
     "output_type": "stream",
     "text": [
      "Processing Record 1 of Set 1 | margate\n",
      "Processing Record 2 of Set 1 | zaqatala\n",
      "Processing Record 3 of Set 1 | busselton\n",
      "Processing Record 4 of Set 1 | ushuaia\n",
      "Processing Record 5 of Set 1 | adrar\n",
      "Processing Record 6 of Set 1 | namatanai\n",
      "Processing Record 7 of Set 1 | la ronge\n",
      "Processing Record 8 of Set 1 | rikitea\n",
      "Processing Record 9 of Set 1 | ossora\n",
      "Processing Record 10 of Set 1 | segezha\n",
      "Processing Record 11 of Set 1 | marzuq\n",
      "Processing Record 12 of Set 1 | sorland\n",
      "Processing Record 13 of Set 1 | nome\n",
      "Processing Record 14 of Set 1 | kapaa\n",
      "Processing Record 15 of Set 1 | dikson\n",
      "Processing Record 16 of Set 1 | hermanus\n",
      "Processing Record 17 of Set 1 | tabas\n",
      "Processing Record 18 of Set 1 | bluff\n",
      "Processing Record 19 of Set 1 | tsihombe\n",
      "City not found. Skipping...\n",
      "Processing Record 20 of Set 1 | paamiut\n",
      "Processing Record 21 of Set 1 | melilla\n",
      "Processing Record 22 of Set 1 | upernavik\n",
      "Processing Record 23 of Set 1 | vaini\n",
      "Processing Record 24 of Set 1 | samana\n",
      "Processing Record 25 of Set 1 | iqaluit\n",
      "Processing Record 26 of Set 1 | kodiak\n",
      "Processing Record 27 of Set 1 | hithadhoo\n",
      "Processing Record 28 of Set 1 | ostrovnoy\n",
      "Processing Record 29 of Set 1 | cherskiy\n",
      "Processing Record 30 of Set 1 | nikolskoye\n",
      "Processing Record 31 of Set 1 | lakes entrance\n",
      "Processing Record 32 of Set 1 | mehamn\n",
      "Processing Record 33 of Set 1 | touros\n",
      "Processing Record 34 of Set 1 | butaritari\n",
      "Processing Record 35 of Set 1 | alta floresta\n",
      "Processing Record 36 of Set 1 | yanchukan\n",
      "City not found. Skipping...\n",
      "Processing Record 37 of Set 1 | punta arenas\n",
      "Processing Record 38 of Set 1 | beringovskiy\n",
      "Processing Record 39 of Set 1 | palabuhanratu\n",
      "City not found. Skipping...\n",
      "Processing Record 40 of Set 1 | yarmouth\n",
      "Processing Record 41 of Set 1 | arraial do cabo\n",
      "Processing Record 42 of Set 1 | nanma\n",
      "Processing Record 43 of Set 1 | maumere\n",
      "Processing Record 44 of Set 1 | atuona\n",
      "Processing Record 45 of Set 1 | kondinskoye\n",
      "Processing Record 46 of Set 1 | mataura\n",
      "Processing Record 47 of Set 1 | nishihara\n",
      "Processing Record 48 of Set 1 | new norfolk\n",
      "Processing Record 49 of Set 1 | bonfim\n",
      "Processing Record 50 of Set 1 | nadym\n",
      "Processing Record 1 of Set 2 | kedrovyy\n",
      "Processing Record 2 of Set 2 | port elizabeth\n",
      "Processing Record 3 of Set 2 | fort nelson\n",
      "Processing Record 4 of Set 2 | lodja\n",
      "Processing Record 5 of Set 2 | kibala\n",
      "Processing Record 6 of Set 2 | muisne\n",
      "Processing Record 7 of Set 2 | kahului\n",
      "Processing Record 8 of Set 2 | vila velha\n",
      "Processing Record 9 of Set 2 | vardo\n",
      "Processing Record 10 of Set 2 | hilo\n",
      "Processing Record 11 of Set 2 | belushya guba\n",
      "City not found. Skipping...\n",
      "Processing Record 12 of Set 2 | pangnirtung\n",
      "Processing Record 13 of Set 2 | chara\n",
      "Processing Record 14 of Set 2 | maceio\n",
      "Processing Record 15 of Set 2 | onega\n",
      "Processing Record 16 of Set 2 | qaanaaq\n",
      "Processing Record 17 of Set 2 | fukue\n",
      "Processing Record 18 of Set 2 | thompson\n",
      "Processing Record 19 of Set 2 | port augusta\n",
      "Processing Record 20 of Set 2 | kavieng\n",
      "Processing Record 21 of Set 2 | provideniya\n",
      "Processing Record 22 of Set 2 | cape town\n",
      "Processing Record 23 of Set 2 | taolanaro\n",
      "City not found. Skipping...\n",
      "Processing Record 24 of Set 2 | saskylakh\n",
      "Processing Record 25 of Set 2 | randvere\n",
      "City not found. Skipping...\n",
      "Processing Record 26 of Set 2 | cidreira\n",
      "Processing Record 27 of Set 2 | avarua\n",
      "Processing Record 28 of Set 2 | ormond beach\n",
      "Processing Record 29 of Set 2 | boissevain\n",
      "-----------------------------\n",
      "Data Retrieval Complete      \n",
      "-----------------------------\n"
     ]
    }
   ],
   "source": [
    "# Loop through all the cities in the list.\n",
    "for i, city in enumerate(cities):\n",
    "\n",
    "    # Group cities in sets of 50 for logging purposes.\n",
    "    if (i % 50 == 0 and i >= 50):\n",
    "        set_count += 1\n",
    "        record_count = 1\n",
    "        time.sleep(60)\n",
    "\n",
    "    # Create endpoint URL with each city.\n",
    "    city_url = url + \"&q=\" + city.replace(\" \",\"+\")\n",
    "\n",
    "    # Log the URL, record, and set numbers and the city.\n",
    "    print(f\"Processing Record {record_count} of Set {set_count} | {city}\")\n",
    "    # Add 1 to the record count.\n",
    "    record_count += 1\n",
    "    \n",
    "# Run an API request for each of the cities.\n",
    "    try:\n",
    "        # Parse the JSON and retrieve data.\n",
    "        city_weather = requests.get(city_url).json()\n",
    "        # Parse out the needed data.\n",
    "        city_lat = city_weather[\"coord\"][\"lat\"]\n",
    "        city_lng = city_weather[\"coord\"][\"lon\"]\n",
    "        city_max_temp = city_weather[\"main\"][\"temp_max\"]\n",
    "        city_humidity = city_weather[\"main\"][\"humidity\"]\n",
    "        city_clouds = city_weather[\"clouds\"][\"all\"]\n",
    "        city_wind = city_weather[\"wind\"][\"speed\"]\n",
    "        city_country = city_weather[\"sys\"][\"country\"]\n",
    "        # Convert the date to ISO standard.\n",
    "        city_date = datetime.utcfromtimestamp(city_weather[\"dt\"]).strftime('%Y-%m-%d %H:%M:%S')\n",
    "        # Append the city information into city_data list.\n",
    "        city_data.append({\"City\": city.title(),\n",
    "                          \"Lat\": city_lat,\n",
    "                          \"Lng\": city_lng,\n",
    "                          \"Max Temp\": city_max_temp,\n",
    "                          \"Humidity\": city_humidity,\n",
    "                          \"Cloudiness\": city_clouds,\n",
    "                          \"Wind Speed\": city_wind,\n",
    "                          \"Country\": city_country,\n",
    "                          \"Date\": city_date})\n",
    "\n",
    "# If an error is experienced, skip the city.\n",
    "    except:\n",
    "        print(\"City not found. Skipping...\")\n",
    "        pass\n",
    "\n",
    "# Indicate that Data Loading is complete.\n",
    "print(\"-----------------------------\")\n",
    "print(\"Data Retrieval Complete      \")\n",
    "print(\"-----------------------------\")"
   ]
  },
  {
   "cell_type": "code",
   "execution_count": 12,
   "id": "266fd8db",
   "metadata": {},
   "outputs": [
    {
     "data": {
      "text/plain": [
       "73"
      ]
     },
     "execution_count": 12,
     "metadata": {},
     "output_type": "execute_result"
    }
   ],
   "source": [
    "len(city_data)"
   ]
  },
  {
   "cell_type": "code",
   "execution_count": 13,
   "id": "2a4958c8",
   "metadata": {},
   "outputs": [
    {
     "data": {
      "text/html": [
       "<div>\n",
       "<style scoped>\n",
       "    .dataframe tbody tr th:only-of-type {\n",
       "        vertical-align: middle;\n",
       "    }\n",
       "\n",
       "    .dataframe tbody tr th {\n",
       "        vertical-align: top;\n",
       "    }\n",
       "\n",
       "    .dataframe thead th {\n",
       "        text-align: right;\n",
       "    }\n",
       "</style>\n",
       "<table border=\"1\" class=\"dataframe\">\n",
       "  <thead>\n",
       "    <tr style=\"text-align: right;\">\n",
       "      <th></th>\n",
       "      <th>City</th>\n",
       "      <th>Lat</th>\n",
       "      <th>Lng</th>\n",
       "      <th>Max Temp</th>\n",
       "      <th>Humidity</th>\n",
       "      <th>Cloudiness</th>\n",
       "      <th>Wind Speed</th>\n",
       "      <th>Country</th>\n",
       "      <th>Date</th>\n",
       "    </tr>\n",
       "  </thead>\n",
       "  <tbody>\n",
       "    <tr>\n",
       "      <th>0</th>\n",
       "      <td>Margate</td>\n",
       "      <td>51.3813</td>\n",
       "      <td>1.3862</td>\n",
       "      <td>294.75</td>\n",
       "      <td>77</td>\n",
       "      <td>94</td>\n",
       "      <td>1.79</td>\n",
       "      <td>GB</td>\n",
       "      <td>2022-08-15 19:35:58</td>\n",
       "    </tr>\n",
       "    <tr>\n",
       "      <th>1</th>\n",
       "      <td>Zaqatala</td>\n",
       "      <td>41.6336</td>\n",
       "      <td>46.6433</td>\n",
       "      <td>300.41</td>\n",
       "      <td>39</td>\n",
       "      <td>0</td>\n",
       "      <td>6.17</td>\n",
       "      <td>AZ</td>\n",
       "      <td>2022-08-15 19:35:59</td>\n",
       "    </tr>\n",
       "    <tr>\n",
       "      <th>2</th>\n",
       "      <td>Busselton</td>\n",
       "      <td>-33.6500</td>\n",
       "      <td>115.3333</td>\n",
       "      <td>289.20</td>\n",
       "      <td>86</td>\n",
       "      <td>100</td>\n",
       "      <td>8.73</td>\n",
       "      <td>AU</td>\n",
       "      <td>2022-08-15 19:27:54</td>\n",
       "    </tr>\n",
       "    <tr>\n",
       "      <th>3</th>\n",
       "      <td>Ushuaia</td>\n",
       "      <td>-54.8000</td>\n",
       "      <td>-68.3000</td>\n",
       "      <td>277.96</td>\n",
       "      <td>60</td>\n",
       "      <td>40</td>\n",
       "      <td>5.14</td>\n",
       "      <td>AR</td>\n",
       "      <td>2022-08-15 19:26:42</td>\n",
       "    </tr>\n",
       "    <tr>\n",
       "      <th>4</th>\n",
       "      <td>Adrar</td>\n",
       "      <td>20.5022</td>\n",
       "      <td>-10.0711</td>\n",
       "      <td>312.85</td>\n",
       "      <td>8</td>\n",
       "      <td>0</td>\n",
       "      <td>2.74</td>\n",
       "      <td>MR</td>\n",
       "      <td>2022-08-15 19:30:57</td>\n",
       "    </tr>\n",
       "    <tr>\n",
       "      <th>5</th>\n",
       "      <td>Namatanai</td>\n",
       "      <td>-3.6667</td>\n",
       "      <td>152.4333</td>\n",
       "      <td>298.23</td>\n",
       "      <td>82</td>\n",
       "      <td>100</td>\n",
       "      <td>1.44</td>\n",
       "      <td>PG</td>\n",
       "      <td>2022-08-15 19:36:01</td>\n",
       "    </tr>\n",
       "    <tr>\n",
       "      <th>6</th>\n",
       "      <td>La Ronge</td>\n",
       "      <td>55.1001</td>\n",
       "      <td>-105.2842</td>\n",
       "      <td>297.29</td>\n",
       "      <td>60</td>\n",
       "      <td>40</td>\n",
       "      <td>3.09</td>\n",
       "      <td>CA</td>\n",
       "      <td>2022-08-15 19:35:07</td>\n",
       "    </tr>\n",
       "    <tr>\n",
       "      <th>7</th>\n",
       "      <td>Rikitea</td>\n",
       "      <td>-23.1203</td>\n",
       "      <td>-134.9692</td>\n",
       "      <td>296.30</td>\n",
       "      <td>76</td>\n",
       "      <td>0</td>\n",
       "      <td>7.98</td>\n",
       "      <td>PF</td>\n",
       "      <td>2022-08-15 19:29:19</td>\n",
       "    </tr>\n",
       "    <tr>\n",
       "      <th>8</th>\n",
       "      <td>Ossora</td>\n",
       "      <td>59.2353</td>\n",
       "      <td>163.0719</td>\n",
       "      <td>285.66</td>\n",
       "      <td>98</td>\n",
       "      <td>100</td>\n",
       "      <td>3.10</td>\n",
       "      <td>RU</td>\n",
       "      <td>2022-08-15 19:36:02</td>\n",
       "    </tr>\n",
       "    <tr>\n",
       "      <th>9</th>\n",
       "      <td>Segezha</td>\n",
       "      <td>63.7415</td>\n",
       "      <td>34.3222</td>\n",
       "      <td>290.58</td>\n",
       "      <td>70</td>\n",
       "      <td>82</td>\n",
       "      <td>2.88</td>\n",
       "      <td>RU</td>\n",
       "      <td>2022-08-15 19:36:03</td>\n",
       "    </tr>\n",
       "  </tbody>\n",
       "</table>\n",
       "</div>"
      ],
      "text/plain": [
       "        City      Lat       Lng  Max Temp  Humidity  Cloudiness  Wind Speed  \\\n",
       "0    Margate  51.3813    1.3862    294.75        77          94        1.79   \n",
       "1   Zaqatala  41.6336   46.6433    300.41        39           0        6.17   \n",
       "2  Busselton -33.6500  115.3333    289.20        86         100        8.73   \n",
       "3    Ushuaia -54.8000  -68.3000    277.96        60          40        5.14   \n",
       "4      Adrar  20.5022  -10.0711    312.85         8           0        2.74   \n",
       "5  Namatanai  -3.6667  152.4333    298.23        82         100        1.44   \n",
       "6   La Ronge  55.1001 -105.2842    297.29        60          40        3.09   \n",
       "7    Rikitea -23.1203 -134.9692    296.30        76           0        7.98   \n",
       "8     Ossora  59.2353  163.0719    285.66        98         100        3.10   \n",
       "9    Segezha  63.7415   34.3222    290.58        70          82        2.88   \n",
       "\n",
       "  Country                 Date  \n",
       "0      GB  2022-08-15 19:35:58  \n",
       "1      AZ  2022-08-15 19:35:59  \n",
       "2      AU  2022-08-15 19:27:54  \n",
       "3      AR  2022-08-15 19:26:42  \n",
       "4      MR  2022-08-15 19:30:57  \n",
       "5      PG  2022-08-15 19:36:01  \n",
       "6      CA  2022-08-15 19:35:07  \n",
       "7      PF  2022-08-15 19:29:19  \n",
       "8      RU  2022-08-15 19:36:02  \n",
       "9      RU  2022-08-15 19:36:03  "
      ]
     },
     "execution_count": 13,
     "metadata": {},
     "output_type": "execute_result"
    }
   ],
   "source": [
    "# Convert the array of dictionaries to a Pandas DataFrame.\n",
    "city_data_df = pd.DataFrame(city_data)\n",
    "city_data_df.head(10)"
   ]
  },
  {
   "cell_type": "code",
   "execution_count": 14,
   "id": "038d5870",
   "metadata": {},
   "outputs": [],
   "source": [
    "# Create the output file (CSV).\n",
    "output_data_file = \"weather_data/cities.csv\"\n",
    "# Export the City_Data into a CSV.\n",
    "city_data_df.to_csv(output_data_file, index_label=\"City_ID\")"
   ]
  },
  {
   "cell_type": "code",
   "execution_count": 15,
   "id": "2b3b6152",
   "metadata": {},
   "outputs": [],
   "source": [
    "# Extract relevant fields from the DataFrame for plotting.\n",
    "lats = city_data_df[\"Lat\"]\n",
    "max_temps = city_data_df[\"Max Temp\"]\n",
    "humidity = city_data_df[\"Humidity\"]\n",
    "cloudiness = city_data_df[\"Cloudiness\"]\n",
    "wind_speed = city_data_df[\"Wind Speed\"]"
   ]
  },
  {
   "cell_type": "code",
   "execution_count": 16,
   "id": "fda7bb59",
   "metadata": {},
   "outputs": [
    {
     "data": {
      "image/png": "[encoded data removed]",
      "text/plain": [
       "<Figure size 432x288 with 1 Axes>"
      ]
     },
     "metadata": {
      "needs_background": "light"
     },
     "output_type": "display_data"
    }
   ],
   "source": [
    "# Import time module\n",
    "import time\n",
    "\n",
    "# Build the scatter plot for latitude vs. max temperature.\n",
    "plt.scatter(lats,\n",
    "            max_temps,\n",
    "            edgecolor=\"black\", linewidths=1, marker=\"o\",\n",
    "            alpha=0.8, label=\"Cities\")\n",
    "\n",
    "# Incorporate the other graph properties.\n",
    "plt.title(f\"City Latitude vs. Max Temperature \"+ time.strftime(\"%x\"))\n",
    "plt.ylabel(\"Max Temperature (F)\")\n",
    "plt.xlabel(\"Latitude\")\n",
    "plt.grid(True)\n",
    "\n",
    "# Save the figure.\n",
    "plt.savefig(\"weather_data/Fig1.png\")\n",
    "\n",
    "# Show plot.\n",
    "plt.show()"
   ]
  },
  {
   "cell_type": "code",
   "execution_count": 17,
   "id": "886ff9ad",
   "metadata": {},
   "outputs": [
    {
     "data": {
      "image/png": "[encoded data removed]",
      "text/plain": [
       "<Figure size 432x288 with 1 Axes>"
      ]
     },
     "metadata": {
      "needs_background": "light"
     },
     "output_type": "display_data"
    }
   ],
   "source": [
    "# Build the scatter plots for latitude vs. humidity.\n",
    "plt.scatter(lats,\n",
    "            humidity,\n",
    "            edgecolor=\"black\", linewidths=1, marker=\"o\",\n",
    "            alpha=0.8, label=\"Cities\")\n",
    "\n",
    "# Incorporate the other graph properties.\n",
    "plt.title(f\"City Latitude vs. Humidity \"+ time.strftime(\"%x\"))\n",
    "plt.ylabel(\"Humidity (%)\")\n",
    "plt.xlabel(\"Latitude\")\n",
    "plt.grid(True)\n",
    "# Save the figure.\n",
    "plt.savefig(\"weather_data/Fig2.png\")\n",
    "# Show plot.\n",
    "plt.show()"
   ]
  },
  {
   "cell_type": "code",
   "execution_count": 18,
   "id": "0f6d85bd",
   "metadata": {},
   "outputs": [
    {
     "data": {
      "image/png": "[encoded data removed]",
      "text/plain": [
       "<Figure size 432x288 with 1 Axes>"
      ]
     },
     "metadata": {
      "needs_background": "light"
     },
     "output_type": "display_data"
    }
   ],
   "source": [
    "# Build the scatter plots for latitude vs. cloudiness.\n",
    "plt.scatter(lats,\n",
    "            cloudiness,\n",
    "            edgecolor=\"black\", linewidths=1, marker=\"o\",\n",
    "            alpha=0.8, label=\"Cities\")\n",
    "\n",
    "# Incorporate the other graph properties.\n",
    "plt.title(f\"City Latitude vs. Cloudiness (%) \"+ time.strftime(\"%x\"))\n",
    "plt.ylabel(\"Cloudiness (%)\")\n",
    "plt.xlabel(\"Latitude\")\n",
    "plt.grid(True)\n",
    "# Save the figure.\n",
    "plt.savefig(\"weather_data/Fig3.png\")\n",
    "# Show plot.\n",
    "plt.show()"
   ]
  },
  {
   "cell_type": "code",
   "execution_count": 19,
   "id": "32cde7db",
   "metadata": {},
   "outputs": [
    {
     "data": {
      "image/png": "[encoded data removed]",
      "text/plain": [
       "<Figure size 432x288 with 1 Axes>"
      ]
     },
     "metadata": {
      "needs_background": "light"
     },
     "output_type": "display_data"
    }
   ],
   "source": [
    "# Build the scatter plots for latitude vs. wind speed.\n",
    "plt.scatter(lats,\n",
    "            wind_speed,\n",
    "            edgecolor=\"black\", linewidths=1, marker=\"o\",\n",
    "            alpha=0.8, label=\"Cities\")\n",
    "\n",
    "# Incorporate the other graph properties.\n",
    "plt.title(f\"City Latitude vs. Wind Speed \"+ time.strftime(\"%x\"))\n",
    "plt.ylabel(\"Wind Speed (mph)\")\n",
    "plt.xlabel(\"Latitude\")\n",
    "plt.grid(True)\n",
    "# Save the figure.\n",
    "plt.savefig(\"weather_data/Fig4.png\")\n",
    "# Show plot.\n",
    "plt.show()"
   ]
  },
  {
   "cell_type": "code",
   "execution_count": null,
   "id": "0ce5ca0e",
   "metadata": {},
   "outputs": [],
   "source": []
  }
 ],
 "metadata": {
  "kernelspec": {
   "display_name": "PythonData",
   "language": "python",
   "name": "pythondata"
  },
  "language_info": {
   "codemirror_mode": {
    "name": "ipython",
    "version": 3
   },
   "file_extension": ".py",
   "mimetype": "text/x-python",
   "name": "python",
   "nbconvert_exporter": "python",
   "pygments_lexer": "ipython3",
   "version": "3.7.13"
  }
 },
 "nbformat": 4,
 "nbformat_minor": 5
}
